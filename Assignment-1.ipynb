{
 "cells": [
  {
   "cell_type": "code",
   "execution_count": 1,
   "id": "6f7c9476",
   "metadata": {},
   "outputs": [
    {
     "name": "stdout",
     "output_type": "stream",
     "text": [
      "Twinkle, twinkle, little star,\n",
      "\tHow I wonder what you are!\n",
      "\t\tUp above the world so high,\n",
      "\t\tLike a diamond in the sky.\n",
      "Twinkle, twinkle, little star,\n",
      "\tHow I wonder what you are! \n"
     ]
    }
   ],
   "source": [
    "print('Twinkle, twinkle, little star,\\n\\tHow I wonder what you are!\\n\\t\\tUp above the world so high,\\n\\t\\tLike a diamond in the sky.\\nTwinkle, twinkle, little star,\\n\\tHow I wonder what you are! ')"
   ]
  },
  {
   "cell_type": "code",
   "execution_count": 2,
   "id": "4ebb5df5",
   "metadata": {},
   "outputs": [
    {
     "data": {
      "text/plain": [
       "'3.8.8 (default, Apr 13 2021, 15:08:03) [MSC v.1916 64 bit (AMD64)]'"
      ]
     },
     "execution_count": 2,
     "metadata": {},
     "output_type": "execute_result"
    }
   ],
   "source": [
    "import sys\n",
    "sys.version"
   ]
  },
  {
   "cell_type": "code",
   "execution_count": 3,
   "id": "3f8ab954",
   "metadata": {},
   "outputs": [
    {
     "name": "stdout",
     "output_type": "stream",
     "text": [
      "2022-01-01 23:24:17.866444\n"
     ]
    }
   ],
   "source": [
    "import datetime\n",
    "datetime = datetime.datetime.now()\n",
    "print(datetime)"
   ]
  },
  {
   "cell_type": "code",
   "execution_count": 4,
   "id": "d6ca7f58",
   "metadata": {},
   "outputs": [
    {
     "name": "stdout",
     "output_type": "stream",
     "text": [
      "Enter radius:4.1\n",
      "Radius of circle: 52.78339999999999\n"
     ]
    }
   ],
   "source": [
    "r=float(input('Enter radius:'))\n",
    "Area=3.14*r*r\n",
    "print('Radius of circle:',Area)"
   ]
  },
  {
   "cell_type": "code",
   "execution_count": 5,
   "id": "3a1f6bca",
   "metadata": {},
   "outputs": [
    {
     "name": "stdout",
     "output_type": "stream",
     "text": [
      "Enter your first name:mohammed\n",
      "Enter your last name:abbas\n",
      "Your full name in reverse order : abbas mohammed\n"
     ]
    }
   ],
   "source": [
    "fname=input('Enter your first name:')\n",
    "lname=input('Enter your last name:')\n",
    "print('Your full name in reverse order :',lname+' '+fname)"
   ]
  },
  {
   "cell_type": "code",
   "execution_count": 6,
   "id": "cec037e2",
   "metadata": {},
   "outputs": [
    {
     "name": "stdout",
     "output_type": "stream",
     "text": [
      "Enter first input: 3\n",
      "Enter second input: 2\n",
      "Sum is:  5\n"
     ]
    }
   ],
   "source": [
    "a=int(input('Enter first input: '))\n",
    "b=int(input('Enter second input: '))\n",
    "c=print('Sum is: ',a+b)"
   ]
  },
  {
   "cell_type": "code",
   "execution_count": null,
   "id": "d1f571d3",
   "metadata": {},
   "outputs": [],
   "source": []
  }
 ],
 "metadata": {
  "kernelspec": {
   "display_name": "Python 3",
   "language": "python",
   "name": "python3"
  },
  "language_info": {
   "codemirror_mode": {
    "name": "ipython",
    "version": 3
   },
   "file_extension": ".py",
   "mimetype": "text/x-python",
   "name": "python",
   "nbconvert_exporter": "python",
   "pygments_lexer": "ipython3",
   "version": "3.8.8"
  }
 },
 "nbformat": 4,
 "nbformat_minor": 5
}
